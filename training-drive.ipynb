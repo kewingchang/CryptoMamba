{
  "nbformat": 4,
  "nbformat_minor": 0,
  "metadata": {
    "colab": {
      "provenance": [],
      "gpuType": "T4",
      "include_colab_link": true
    },
    "kernelspec": {
      "name": "python3",
      "display_name": "Python 3"
    },
    "language_info": {
      "name": "python"
    },
    "accelerator": "GPU"
  },
  "cells": [
    {
      "cell_type": "markdown",
      "metadata": {
        "id": "view-in-github",
        "colab_type": "text"
      },
      "source": [
        "<a href=\"https://colab.research.google.com/github/kewingchang/CryptoMamba/blob/Training/training-drive.ipynb\" target=\"_parent\"><img src=\"https://colab.research.google.com/assets/colab-badge.svg\" alt=\"Open In Colab\"/></a>"
      ]
    },
    {
      "cell_type": "code",
      "execution_count": null,
      "metadata": {
        "cellView": "form",
        "id": "cloning"
      },
      "outputs": [],
      "source": [
        "# @title Cloning\n",
        "!git clone -b Training https://github.com/kewingchang/CryptoMamba\n",
        "%cd CryptoMamba/"
      ]
    },
    {
      "cell_type": "code",
      "source": [
        "# @title Mount google drive\n",
        "from google.colab import drive\n",
        "drive.mount('/content/drive')"
      ],
      "metadata": {
        "cellView": "form",
        "id": "mount-drive"
      },
      "execution_count": null,
      "outputs": []
    },
    {
      "cell_type": "code",
      "source": [
        "# @title Installing requirements\n",
        "!pip install mamba-ssm==2.2.5 causal-conv1d==1.5.2 -v --no-build-isolation\n",
        "!pip install -r requirements.txt\n",
        "!pip uninstall tensorflow -y"
      ],
      "metadata": {
        "cellView": "form",
        "id": "install-req"
      },
      "execution_count": null,
      "outputs": []
    },
    {
      "cell_type": "code",
      "source": [
        "# @title Training\n",
        "!python scripts/training.py --config cmamba_v --save_checkpoints"
      ],
      "metadata": {
        "cellView": "form",
        "id": "training"
      },
      "execution_count": null,
      "outputs": []
    },
    {
      "cell_type": "code",
      "source": [
        "# @title Evaluation\n",
        "!python scripts/evaluation.py --config cmamba_v --ckpt_path ./logs/CMamba/version_0/checkpoints/epoch*.ckpt"
      ],
      "metadata": {
        "cellView": "form",
        "id": "evaluation"
      },
      "execution_count": null,
      "outputs": []
    },
    {
      "cell_type": "code",
      "source": [
        "# @title Save model\n",
        "!python utils/save_to_drive.py"
      ],
      "metadata": {
        "cellView": "form",
        "id": "evaluation"
      },
      "execution_count": null,
      "outputs": []
    }
  ]
}
