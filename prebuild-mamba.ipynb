{
  "nbformat": 4,
  "nbformat_minor": 0,
  "metadata": {
    "colab": {
      "provenance": [],
      "gpuType": "T4",
      "include_colab_link": true
    },
    "kernelspec": {
      "name": "python3",
      "display_name": "Python 3"
    },
    "language_info": {
      "name": "python"
    },
    "accelerator": "GPU"
  },
  "cells": [
    {
      "cell_type": "markdown",
      "metadata": {
        "id": "view-in-github",
        "colab_type": "text"
      },
      "source": [
        "<a href=\"https://colab.research.google.com/github/kewingchang/CryptoMamba/blob/main/example-drive.ipynb\" target=\"_parent\"><img src=\"https://colab.research.google.com/assets/colab-badge.svg\" alt=\"Open In Colab\"/></a>"
      ]
    },
    {
      "cell_type": "code",
      "execution_count": null,
      "metadata": {
        "cellView": "form",
        "id": "cloning"
      },
      "outputs": [],
      "source": [
        "# @title Cloning\n",
        "!git clone https://github.com/kewingchang/CryptoMamba\n",
        "%cd CryptoMamba/"
      ]
    },
    {
      "cell_type": "code",
      "source": [
        "# @title mount google drive\n",
        "from google.colab import drive\n",
        "drive.mount('/content/drive')\n",
        "!mkdir -p /content/drive/MyDrive/my_libs"
      ],
      "metadata": {
        "cellView": "form",
        "id": "mount-drive"
      },
      "execution_count": null,
      "outputs": []
    },
    {
      "cell_type": "code",
      "source": [
        "# @title python version check\n",
        "!python --version"
      ],
      "metadata": {
        "cellView": "form",
        "id": "python-version"
      },
      "execution_count": null,
      "outputs": []
    },
    {
      "cell_type": "code",
      "source": [
        "# @title install into google drive\n",
        "!pip install ninja\n",
        "!pip install mamba-ssm[causal-conv1d] -v --target=/content/drive/MyDrive/my_libs"
      ],
      "metadata": {
        "cellView": "form",
        "id": "install-drive"
      },
      "execution_count": null,
      "outputs": []
    },
    {
      "cell_type": "code",
      "source": [
        "# @title Installing requirements\n",
        "!pip install torch\n",
        "!pip install torchvision\n",
        "!pip install torchaudio\n",
        "!pip install setuptools\n",
        "!pip install pyaml\n",
        "!pip install lightning\n",
        "!pip install matplotlib\n",
        "!pip install seaborn\n",
        "!pip install pandas\n",
        "!pip install einops\n",
        "!pip install tensorboard"
      ],
      "metadata": {
        "cellView": "form",
        "id": "install-req"
      },
      "execution_count": null,
      "outputs": []
    },
    {
      "cell_type": "code",
      "source": [
        "# @title copy from drive\n",
        "!cp -r /content/drive/MyDrive/my_libs/causal_conv1d /usr/local/lib/python3.12/dist-packages/\n",
        "!cp /content/drive/MyDrive/my_libs/causal_conv1d_cuda.cpython-312-x86_64-linux-gnu.so /usr/local/lib/python3.12/dist-packages/\n",
        "!cp -r /content/drive/MyDrive/my_libs/mamba_ssm-2.2.6.post3.dist-info /usr/local/lib/python3.12/dist-packages/  \n",
        "!cp -r /content/drive/MyDrive/my_libs/mamba_ssm /usr/local/lib/python3.12/dist-packages/\n",
        "!cp /content/drive/MyDrive/my_libs/selective_scan_cuda.cpython-312-x86_64-linux-gnu.so /usr/local/lib/python3.12/dist-packages/\n",
        "!cp -r /content/drive/MyDrive/my_libs/causal_conv1d-1.5.3.post1.dist-info /usr/local/lib/python3.12/dist-packages/"
      ],
      "metadata": {
        "cellView": "form",
        "id": "copy-drive"
      },
      "execution_count": null,
      "outputs": []
    },
    {
      "cell_type": "code",
      "source": [
        "# @title test import\n",
        "import causal_conv1d\n",
        "import mamba_ssm\n",
        "print(\"import test OK.\")"
      ],
      "metadata": {
        "cellView": "form",
        "id": "test-import"
      },
      "execution_count": null,
      "outputs": []
    },
    {
      "cell_type": "code",
      "source": [
        "# @title BTC Prediction\n",
        "!python scripts/one_day_pred.py --config cmamba_v --ckpt_path ./checkpoints/BTC_cmamba_v.ckpt --data_path ./data/BTC_one_day_pred.csv --date 2025-10-10"
      ],
      "metadata": {
        "cellView": "form",
        "id": "btc-pred"
      },
      "execution_count": null,
      "outputs": []
    },
    {
      "cell_type": "code",
      "source": [
        "# @title ETH Prediction\n",
        "!python scripts/one_day_pred.py --config cmamba_v --ckpt_path ./checkpoints/ETH_cmamba_v.ckpt --data_path ./data/ETH_one_day_pred.csv --date 2025-10-10"
      ],
      "metadata": {
        "cellView": "form",
        "id": "eth-pred"
      },
      "execution_count": null,
      "outputs": []
    }
  ]
}
