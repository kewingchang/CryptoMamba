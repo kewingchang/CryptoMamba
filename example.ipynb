{
  "nbformat": 4,
  "nbformat_minor": 0,
  "metadata": {
    "colab": {
      "provenance": [],
      "gpuType": "A100",
      "include_colab_link": true
    },
    "kernelspec": {
      "name": "python3",
      "display_name": "Python 3"
    },
    "language_info": {
      "name": "python"
    },
    "accelerator": "GPU"
  },
  "cells": [
    {
      "cell_type": "markdown",
      "metadata": {
        "id": "view-in-github",
        "colab_type": "text"
      },
      "source": [
        "<a href=\"https://colab.research.google.com/github/kewingchang/CryptoMamba/blob/BTC/example.ipynb\" target=\"_parent\"><img src=\"https://colab.research.google.com/assets/colab-badge.svg\" alt=\"Open In Colab\"/></a>"
      ]
    },
    {
      "cell_type": "code",
      "execution_count": 1,
      "metadata": {
        "colab": {
          "base_uri": "https://localhost:8080/"
        },
        "cellView": "form",
        "id": "WCqI8zrlp99U",
        "outputId": "9d14221b-d515-497a-9faf-d1d8dd2e81d7"
      },
      "outputs": [],
      "source": [
        "# @title Cloning\n",
        "!git clone https://github.com/kewingchang/CryptoMamba\n",
        "%cd CryptoMamba/"
      ]
    },
    {
      "cell_type": "code",
      "source": [
        "# @title Installing requirements\n",
        "\n",
        "%%capture\n",
        "!pip install mamba-ssm[causal-conv1d] --no-build-isolation\n",
        "!pip install -r requirements.txt"
      ],
      "metadata": {
        "cellView": "form",
        "id": "QoSiNMCtqGj5"
      },
      "execution_count": 2,
      "outputs": []
    },
    {
      "cell_type": "code",
      "source": [
        "# @title BTC Prediction\n",
        "!python scripts/one_day_pred.py --config cmamba_v --ckpt_path ./checkpoints/BTC_cmamba_v.ckpt --data_path ./data/BTC_one_day_pred.csv --date 2025-7-3\n"
      ],
      "metadata": {
        "id": "lAU_41CEeho4"
      },
      "execution_count": 3,
      "outputs": []
    },
    {
      "cell_type": "code",
      "source": [
        "# @title ETH Prediction\n",
        "!python scripts/one_day_pred.py --config cmamba_v --ckpt_path ./checkpoints/ETH_cmamba_v.ckpt --data_path ./data/ETH_one_day_pred.csv --date 2025-7-3\n"
      ],
      "metadata": {
        "id": "lAU_41CEeho4"
      },
      "execution_count": 4,
      "outputs": []
    }
  ]
}
