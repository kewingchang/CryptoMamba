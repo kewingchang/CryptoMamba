{
  "nbformat": 4,
  "nbformat_minor": 0,
  "metadata": {
    "colab": {
      "provenance": [],
      "gpuType": "T4",
      "include_colab_link": true
    },
    "kernelspec": {
      "name": "python3",
      "display_name": "Python 3"
    },
    "language_info": {
      "name": "python"
    },
    "accelerator": "GPU"
  },
  "cells": [
    {
      "cell_type": "markdown",
      "metadata": {
        "id": "view-in-github",
        "colab_type": "text"
      },
      "source": [
        "<a href=\"https://colab.research.google.com/github/kewingchang/CryptoMamba/blob/Training/example.ipynb\" target=\"_parent\"><img src=\"https://colab.research.google.com/assets/colab-badge.svg\" alt=\"Open In Colab\"/></a>"
      ]
    },
    {
      "cell_type": "code",
      "execution_count": 1,
      "metadata": {
        "colab": {
          "base_uri": "https://localhost:8080/"
        },
        "cellView": "form",
        "id": "WCqI8zrlp99U",
        "outputId": "9d14221b-d515-497a-9faf-d1d8dd2e81d7"
      },
      "outputs": [
        {
          "output_type": "stream",
          "name": "stdout",
          "text": [
            "fatal: destination path 'CryptoMamba' already exists and is not an empty directory.\n",
            "/content/CryptoMamba\n"
          ]
        }
      ],
      "source": [
        "# @title Cloning\n",
        "!git clone -b Training https://github.com/kewingchang/CryptoMamba\n",
        "%cd CryptoMamba/"
      ]
    },
    {
      "cell_type": "code",
      "source": [
        "# @title Installing requirements\n",
        "\n",
        "%%capture\n",
        "!pip install mamba-ssm[causal-conv1d] --no-build-isolation\n",
        "!pip install -r requirements.txt"
      ],
      "metadata": {
        "cellView": "form",
        "id": "QoSiNMCtqGj5"
      },
      "execution_count": 2,
      "outputs": []
    },
    {
      "cell_type": "code",
      "source": [
        "# @title Training\n",
        "!python scripts/training.py --config cmamba_v --save_checkpoints"
      ],
      "metadata": {
        "id": "fVSOA2b_ssQq"
      },
      "execution_count": null,
      "outputs": []
    }
  ]
}
